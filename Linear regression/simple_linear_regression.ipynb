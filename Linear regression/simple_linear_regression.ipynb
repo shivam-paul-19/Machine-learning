{
 "cells": [
  {
   "cell_type": "markdown",
   "metadata": {},
   "source": [
    "# **Linear Regression**\n",
    "Linear regression is a statistical method used to model the relationship between a dependent variable and one or more independent variables. It provides valuable insights for prediction and data analysis. This article will explore its types, assumptions, implementation, advantages, and evaluation metrics.\n",
    "\n",
    "Linear regression is also a type of supervised machine-learning algorithm that learns from the labelled datasets and maps the data points with most optimized linear functions which can be used for prediction on new datasets. It computes the linear relationship between the dependent variable and one or more independent features by fitting a linear equation with observed data. It predicts the continuous output variables based on the independent input variable.\n",
    "\n",
    "For example if we want to predict house price we consider various factor such as house age, distance from the main road, location, area and number of room, linear regression uses all these parameter to predict house price as it consider a linear relation between all these features and price of house."
   ]
  },
  {
   "cell_type": "markdown",
   "metadata": {},
   "source": [
    "## How does Linear regression works?\n",
    "\n",
    "![graph](https://media.geeksforgeeks.org/wp-content/uploads/20231129130431/11111111.png)\n",
    "\n",
    "In simple words, all the **Independent** features are in `x-axis` and **Dependent** or **Output** features are in `y-axis`. The aim of linear regression model is predict the Output with a newly given independent feature(s).\n",
    "Think it this way like all the given data is plotted in a scatter plot, our aim in linear regression is to find a **Best-fit line** that is the closest to every data point."
   ]
  },
  {
   "cell_type": "markdown",
   "metadata": {},
   "source": [
    "## How we find the best fit line?\n",
    "We have a **Cost function**, we test it for every line. To represent a line we have this equation \n",
    "$$Y = θ₁ + θ₂x$$\n",
    "$$Y = θ₁ + θ₂x₀ + θ₃x₁ + ...\\ (In\\ case\\ of\\ more\\ independent\\ features)$$\n",
    "Here, *θ₁* means the **intercept** and *θ₂* means the **slope**\n",
    "\n",
    "Suppose the cost function is defined as:\n",
    "$$C(θ₁, θ₂) = cost function$$\n",
    "Out task is to find an equation of line which has the lowest value of this *C(θ₁, θ₂)*\n",
    "\n",
    "If we plot all the point of *C(θ₁, θ₂)* by taking many values of θ₁ and θ₂, then those points will make a graph like this\n",
    "\n",
    "\n",
    "![gradient descent](https://mlpills.dev/wp-content/uploads/2022/10/CaIB7lz-h.jpg)\n"
   ]
  },
  {
   "cell_type": "markdown",
   "metadata": {},
   "source": [
    "## Types of cost functions\n",
    "- ### **MSE (Mean squared error)**\n",
    "\n",
    "Mean Squared Error (MSE) is a fundamental concept in statistics and machine learning playing a crucial role in assessing the accuracy of the predictive models. It is a parameter to calculate the accuracy of the model. It measures the average squared difference between predicted values and the actual values in the dataset.\n",
    "\n",
    "**Advantage**\n",
    "- It is always differentiable\n",
    "- Has only one *Global* minima\n",
    "\n",
    "**Disadvantage**\n",
    "- Can be affected by outliers\n",
    "- Not in same units (beacuse of squaring)\n",
    "\n",
    "The cost function in MSE:\n",
    "$$ C(θ₁, θ₂) = \\sum^{n}_{i=1} \\frac{(y-ŷ)²}{n} $$\n",
    "$$ n = number\\ of\\ data\\ points$$\n",
    "\n",
    "- ### **MAE (Mean absolute error)**\n",
    "\n",
    "Mean Absolute Error calculates the average difference between the calculated values and actual values. It is also known as scale-dependent accuracy as it calculates error in observations taken on the same scale used to predict the accuracy of the machine learning model.\n",
    "\n",
    "**Advantage**\n",
    "- It is less likely to be affected by outliers\n",
    "- In same units\n",
    "\n",
    "**Disadvantage**\n",
    "- it is not differential at (0, 0)\n",
    "- Time consuming\n",
    "\n",
    "The cost function in MSE:\n",
    "\n",
    "$$ C(θ₁, θ₂) = \\sum^{n}_{i=1} \\frac{|y-ŷ|}{n} $$\n",
    "$$ n = number\\ of\\ data\\ points$$\n",
    "\n",
    "- ### **RMSE (Root mean squared error)**\n",
    "\n",
    "Root mean square is defined as the quadratic mean or a subset of the generalized mean with an exponent of 2. To put it another way, the square root of the entire sum of squares of each data value in an observation is calculated using the root mean square formula. It can be interpreted as a changing function based on an integral of the squares of the values that are instantaneous in a cycle. It is used here to compute the square root of the arithmetic mean of the square of the function that describes the continuous waveform. It is abbreviated as RMS.\n",
    "\n",
    "$$ C(θ₁, θ₂) = \\sqrt{MSE} $$\n",
    "$$ OR $$\n",
    "$$ C(θ₁, θ₂) = \\sqrt{\\sum^{n}_{i=1} \\frac{(y-ŷ)²}{n}} $$\n",
    "\n",
    "**Advantage**\n",
    "- It is always differentiable\n",
    "- In same units\n",
    "\n",
    "**Disadvantage**\n",
    "- Can be affected by outliers"
   ]
  },
  {
   "cell_type": "markdown",
   "metadata": {},
   "source": [
    "## Convergence Algorithm\n",
    "A convergence algorithm in machine learning is a process that adjusts a model's parameters to improve its predictions over time. This process is also known as optimization. \n",
    "\n",
    "$$ θj := θj - α\\frac{∂}{∂θj}C(θ₁, θ₂) $$\n",
    "$$ The\\ breakdown: $$\n",
    "$$ \\frac{∂}{∂θj}J(θ₁, θ₂) => it\\ is\\ nothing\\ but\\ the\\ slope\\ of\\ the\\ line\\ at\\ the\\ point\\ θj $$ \n",
    "$$ ... $$\n",
    "$ if\\ the\\ value\\ of\\ \\frac{∂}{∂θj}C(θ₁, θ₂)\\ is\\ +ve\\ then\\ it\\ is\\ a\\ positive\\ slope\\ and\\ we\\ have\\ to\\ reduce\\ the\\ value\\ of\\ θj. $\n",
    "$ if\\ the\\ value\\ of\\ \\frac{∂}{∂θj}C(θ₁, θ₂)\\ is\\ {-ve}\\ then\\ it\\ is\\ a\\ positive\\ slope\\ and\\ we\\ have\\ to\\ increase\\ the\\ value\\ of\\ θj. The\\ '-'\\ sign\\ will\\ get\\ cancelled\\ by\\ -ve\\ and\\ ultimately\\ the\\ value\\ of\\ θj\\ will\\ increase. $\n",
    "$$ ... $$\n",
    "$ α\\ is\\ knows\\ as\\ Learning\\ rate.\\ It\\ is\\ the\\ rate\\ by\\ the\\ value\\ is\\ changing $\n",
    "$ The\\ ideal\\ value\\ of\\ α\\ is\\ 0.001  $\n",
    "\n",
    "#### We initialise the *θj* with some starting value and it goes iteratively until we have reached the global minima. "
   ]
  },
  {
   "cell_type": "markdown",
   "metadata": {},
   "source": [
    "## Performance Metrics\n",
    "There are some metrics that are used to calculate the accuracy of the model.\n",
    "Some of the metrics are:\n",
    "- **R²**\n",
    "- **Adjusted R²**\n",
    "\n",
    "### R² (R sqaured)\n",
    "$$ R² = 1 - \\frac{∑(yi - ŷi)²}{∑(yi - Yi)²} $$\n",
    "$$ yi = Actual\\ points $$\n",
    "$$ ŷi = predicted\\ points $$\n",
    "$$ Yi = average\\ of\\ actual\\ points $$\n",
    "\n",
    "The Value of R² will be between 0 to 1. The more it is closet to 1, the more accurate the model is.\n",
    "\n",
    "### Adjusted R² (adjusted R sqaured)\n",
    "There is a major in problem in the the R² metrics that is if we keep on adding features in the model then the accuracy will increase, but if the newly added feature is not directly proportional then also the value of R² will increase. To prevent this, we can use the **adjusted R sqaured**.\n",
    "\n",
    "$$ Adjusted R² = 1 - \\frac{(1 - R²)(N - 1)}{N - P - 1} $$\n",
    "$$ N = Number\\ of\\ data\\ points $$\n",
    "$$ P = Number\\ of\\ Independent\\ feature $$"
   ]
  },
  {
   "cell_type": "markdown",
   "metadata": {},
   "source": [
    "## Training data set v/s Testing data set\n",
    "- **Training Dataset**\n",
    "\n",
    "Used to train the model by finding the best-fitting line (i.e., learning the relationship between independent and dependent variables).\n",
    "The model learns the parameters (slope & intercept) using techniques like Ordinary Least Squares (OLS).\n",
    "\n",
    "- **Testing Dataset**\n",
    "\n",
    "Used to evaluate the model's performance on unseen data.\n",
    "Helps in checking how well the model generalizes to new inputs by calculating metrics like Mean Squared Error (MSE) or R² Score.\n",
    "\n",
    "## Overfitting v/s underfitting\n",
    "\n",
    "| In taining data set   | In taining data set | Outcome |\n",
    "| :---------------: | :------: | :----: |\n",
    "| good accuracy (low bais) | good accuracy (low variance) | Generalized model |\n",
    "| good accuracy (low bais) |  bad accuracy (high variance)   | Overfitting |\n",
    "| bad accuracy (high bais)   |  bad accuracy (high variance)   | Underfitting |"
   ]
  },
  {
   "cell_type": "markdown",
   "metadata": {},
   "source": [
    "## Performing a Simple Linear regression on Height-weight Data set"
   ]
  },
  {
   "cell_type": "code",
   "execution_count": 2,
   "metadata": {},
   "outputs": [],
   "source": [
    "import pandas as pd\n",
    "import matplotlib.pyplot as plt\n",
    "import numpy as np"
   ]
  },
  {
   "cell_type": "code",
   "execution_count": 3,
   "metadata": {},
   "outputs": [
    {
     "data": {
      "text/html": [
       "<div>\n",
       "<style scoped>\n",
       "    .dataframe tbody tr th:only-of-type {\n",
       "        vertical-align: middle;\n",
       "    }\n",
       "\n",
       "    .dataframe tbody tr th {\n",
       "        vertical-align: top;\n",
       "    }\n",
       "\n",
       "    .dataframe thead th {\n",
       "        text-align: right;\n",
       "    }\n",
       "</style>\n",
       "<table border=\"1\" class=\"dataframe\">\n",
       "  <thead>\n",
       "    <tr style=\"text-align: right;\">\n",
       "      <th></th>\n",
       "      <th>Weight</th>\n",
       "      <th>Height</th>\n",
       "    </tr>\n",
       "  </thead>\n",
       "  <tbody>\n",
       "    <tr>\n",
       "      <th>0</th>\n",
       "      <td>45</td>\n",
       "      <td>120</td>\n",
       "    </tr>\n",
       "    <tr>\n",
       "      <th>1</th>\n",
       "      <td>58</td>\n",
       "      <td>135</td>\n",
       "    </tr>\n",
       "    <tr>\n",
       "      <th>2</th>\n",
       "      <td>48</td>\n",
       "      <td>123</td>\n",
       "    </tr>\n",
       "    <tr>\n",
       "      <th>3</th>\n",
       "      <td>60</td>\n",
       "      <td>145</td>\n",
       "    </tr>\n",
       "    <tr>\n",
       "      <th>4</th>\n",
       "      <td>70</td>\n",
       "      <td>160</td>\n",
       "    </tr>\n",
       "  </tbody>\n",
       "</table>\n",
       "</div>"
      ],
      "text/plain": [
       "   Weight  Height\n",
       "0      45     120\n",
       "1      58     135\n",
       "2      48     123\n",
       "3      60     145\n",
       "4      70     160"
      ]
     },
     "execution_count": 3,
     "metadata": {},
     "output_type": "execute_result"
    }
   ],
   "source": [
    "df = pd.read_csv('height-weight.csv')\n",
    "df.head()"
   ]
  },
  {
   "cell_type": "code",
   "execution_count": 4,
   "metadata": {},
   "outputs": [
    {
     "data": {
      "text/plain": [
       "<matplotlib.collections.PathCollection at 0x2709a974b90>"
      ]
     },
     "execution_count": 4,
     "metadata": {},
     "output_type": "execute_result"
    },
    {
     "data": {
      "image/png": "[encoded data removed]",
      "text/plain": [
       "<Figure size 640x480 with 1 Axes>"
      ]
     },
     "metadata": {},
     "output_type": "display_data"
    }
   ],
   "source": [
    "plt.scatter(df['Weight'], df['Height'])"
   ]
  },
  {
   "cell_type": "code",
   "execution_count": 5,
   "metadata": {},
   "outputs": [
    {
     "data": {
      "text/plain": [
       "((23, 1), (23,))"
      ]
     },
     "execution_count": 5,
     "metadata": {},
     "output_type": "execute_result"
    }
   ],
   "source": [
    "X = df[['Weight']]  # This is independent feature and thus needs to be in a 2D format\n",
    "y = df['Height']    # This is dependent feature and can be in 1D format\n",
    "\n",
    "X.shape, y.shape"
   ]
  },
  {
   "cell_type": "markdown",
   "metadata": {},
   "source": [
    "Splitting into train and test data"
   ]
  },
  {
   "cell_type": "code",
   "execution_count": 6,
   "metadata": {},
   "outputs": [],
   "source": [
    "from sklearn.model_selection import train_test_split\n",
    "\n",
    "X_train, X_test, y_train, y_test = train_test_split(X, y, test_size=0.25, random_state=42)"
   ]
  },
  {
   "cell_type": "markdown",
   "metadata": {},
   "source": [
    "Standarizing the indpendent feature (μ = 0, σ = 1)"
   ]
  },
  {
   "cell_type": "code",
   "execution_count": 7,
   "metadata": {},
   "outputs": [
    {
     "data": {
      "text/plain": [
       "array([[-0.87662801],\n",
       "       [ 1.66773133],\n",
       "       [ 0.33497168],\n",
       "       [-1.48242785],\n",
       "       [ 1.36483141],\n",
       "       [-1.6641678 ],\n",
       "       [-0.75546804],\n",
       "       [-0.1496682 ],\n",
       "       [ 0.21381171],\n",
       "       [-1.36126788],\n",
       "       [-0.99778797],\n",
       "       [-0.02850823],\n",
       "       [ 1.06193149],\n",
       "       [ 0.57729161],\n",
       "       [ 0.75903157],\n",
       "       [ 0.88019153],\n",
       "       [ 0.45613165]])"
      ]
     },
     "execution_count": 7,
     "metadata": {},
     "output_type": "execute_result"
    }
   ],
   "source": [
    "from sklearn.preprocessing import StandardScaler\n",
    "scaler = StandardScaler()\n",
    "X_train = scaler.fit_transform(X_train)\n",
    "X_train"
   ]
  },
  {
   "cell_type": "code",
   "execution_count": 8,
   "metadata": {},
   "outputs": [
    {
     "data": {
      "text/plain": [
       "array([[ 0.33497168],\n",
       "       [ 0.33497168],\n",
       "       [-1.6641678 ],\n",
       "       [ 1.36483141],\n",
       "       [-0.45256812],\n",
       "       [ 1.97063125]])"
      ]
     },
     "execution_count": 8,
     "metadata": {},
     "output_type": "execute_result"
    }
   ],
   "source": [
    "X_test = scaler.transform(X_test)   # transform, not fit_transform\n",
    "X_test"
   ]
  },
  {
   "cell_type": "code",
   "execution_count": 9,
   "metadata": {},
   "outputs": [],
   "source": [
    "from sklearn.linear_model import LinearRegression\n",
    "regression = LinearRegression(n_jobs=-1)"
   ]
  },
  {
   "cell_type": "code",
   "execution_count": 10,
   "metadata": {},
   "outputs": [
    {
     "data": {
      "text/plain": [
       "'The co-effiecient is 17.29820570436306 & the intercept is 156.47058823529412'"
      ]
     },
     "execution_count": 10,
     "metadata": {},
     "output_type": "execute_result"
    }
   ],
   "source": [
    "regression.fit(X_train, y_train)\n",
    "f\"The co-effiecient is {regression.coef_[0]} & the intercept is {regression.intercept_}\""
   ]
  },
  {
   "cell_type": "markdown",
   "metadata": {},
   "source": [
    "Seeing the best fit line"
   ]
  },
  {
   "cell_type": "code",
   "execution_count": 11,
   "metadata": {},
   "outputs": [
    {
     "data": {
      "text/plain": [
       "[<matplotlib.lines.Line2D at 0x270acc35010>]"
      ]
     },
     "execution_count": 11,
     "metadata": {},
     "output_type": "execute_result"
    },
    {
     "data": {
      "image/png": "[encoded data removed]",
      "text/plain": [
       "<Figure size 640x480 with 1 Axes>"
      ]
     },
     "metadata": {},
     "output_type": "display_data"
    }
   ],
   "source": [
    "plt.scatter(X_train, y_train)\n",
    "plt.plot(X_train, regression.predict(X_train))"
   ]
  },
  {
   "cell_type": "markdown",
   "metadata": {},
   "source": [
    "Predicting on test data"
   ]
  },
  {
   "cell_type": "code",
   "execution_count": 12,
   "metadata": {},
   "outputs": [
    {
     "data": {
      "text/plain": [
       "array([162.26499721, 162.26499721, 127.68347133, 180.07972266,\n",
       "       148.64197186, 190.55897293])"
      ]
     },
     "execution_count": 12,
     "metadata": {},
     "output_type": "execute_result"
    }
   ],
   "source": [
    "y_pred = regression.predict(X_test)\n",
    "y_pred"
   ]
  },
  {
   "cell_type": "markdown",
   "metadata": {},
   "source": [
    "Perfomance metrics"
   ]
  },
  {
   "cell_type": "code",
   "execution_count": 13,
   "metadata": {},
   "outputs": [
    {
     "data": {
      "text/plain": [
       "(114.84069295228699, 9.66512588679501, 10.716374991212605)"
      ]
     },
     "execution_count": 13,
     "metadata": {},
     "output_type": "execute_result"
    }
   ],
   "source": [
    "from sklearn.metrics import mean_squared_error, mean_absolute_error, r2_score\n",
    "mse = mean_squared_error(y_test, y_pred)\n",
    "mae = mean_absolute_error(y_test, y_pred)\n",
    "rmse = np.sqrt(mse)\n",
    "\n",
    "mse, mae, rmse"
   ]
  },
  {
   "cell_type": "code",
   "execution_count": 14,
   "metadata": {},
   "outputs": [
    {
     "name": "stdout",
     "output_type": "stream",
     "text": [
      "0.7360826717981276\n",
      "the accuracy of model is 73.6%\n"
     ]
    }
   ],
   "source": [
    "r2 = r2_score(y_test, y_pred)\n",
    "print(r2)\n",
    "print(f\"the accuracy of model is {(r2*100):.1f}%\")"
   ]
  },
  {
   "cell_type": "markdown",
   "metadata": {},
   "source": [
    "Predicting new values"
   ]
  },
  {
   "cell_type": "code",
   "execution_count": 15,
   "metadata": {},
   "outputs": [
    {
     "data": {
      "text/plain": [
       "array([1367.34498754])"
      ]
     },
     "execution_count": 15,
     "metadata": {},
     "output_type": "execute_result"
    }
   ],
   "source": [
    "regression.predict([[70]])\n",
    "\n",
    "# wait...what? how this is coming like this?"
   ]
  },
  {
   "cell_type": "code",
   "execution_count": 16,
   "metadata": {},
   "outputs": [
    {
     "data": {
      "text/plain": [
       "array([156.47058824])"
      ]
     },
     "execution_count": 16,
     "metadata": {},
     "output_type": "execute_result"
    }
   ],
   "source": [
    "regression.predict(scaler.fit_transform([[70]]))\n",
    "\n",
    "# now better... we have to transform every independent feature"
   ]
  },
  {
   "cell_type": "markdown",
   "metadata": {},
   "source": [
    "# Ordinary Least Squares (OLS)\n",
    "\n",
    "Ordinary Least Squares (OLS) regression is a powerful statistical method used to analyze the relationship between one or more independent variables and a dependent variable.\n",
    "\n",
    "The equation of `Best fit line` found with the help of OLS is: \n",
    "$$ Y = β₀ + β₁x $$\n",
    "\n",
    "By OLS method, we can find the value of $β₀$ (intercept) and $β₁$ (slope)\n",
    "\n",
    "$$ β₁ = \\frac{\\sum^{n}_{i=1} (yi-μ(y))}{\\sum^{n}_{i=1} (xi-μ(x))} $$\n",
    "$$ μ(y)/μ(x) = mean\\ of\\ y/x $$\n",
    "$$ ... $$\n",
    "\n",
    "$$ β₀ = μ(y) - β₁μ(x) $$"
   ]
  },
  {
   "cell_type": "markdown",
   "metadata": {},
   "source": [
    "Doing Linear regression using OLS"
   ]
  },
  {
   "cell_type": "code",
   "execution_count": 17,
   "metadata": {},
   "outputs": [],
   "source": [
    "import statsmodels.api as sm\n",
    "model = sm.OLS(y_train, X_train).fit()"
   ]
  },
  {
   "cell_type": "code",
   "execution_count": 18,
   "metadata": {},
   "outputs": [
    {
     "data": {
      "text/plain": [
       "array([  5.79440897,   5.79440897, -28.78711691,  23.60913442,\n",
       "        -7.82861638,  34.08838469])"
      ]
     },
     "execution_count": 18,
     "metadata": {},
     "output_type": "execute_result"
    }
   ],
   "source": [
    "model.predict(X_test)"
   ]
  },
  {
   "cell_type": "code",
   "execution_count": 19,
   "metadata": {},
   "outputs": [
    {
     "name": "stderr",
     "output_type": "stream",
     "text": [
      "c:\\Users\\91977\\AppData\\Local\\Programs\\Python\\Python311\\Lib\\site-packages\\scipy\\stats\\_stats_py.py:1806: UserWarning: kurtosistest only valid for n>=20 ... continuing anyway, n=17\n",
      "  warnings.warn(\"kurtosistest only valid for n>=20 ... continuing \"\n"
     ]
    },
    {
     "data": {
      "text/html": [
       "<table class=\"simpletable\">\n",
       "<caption>OLS Regression Results</caption>\n",
       "<tr>\n",
       "  <th>Dep. Variable:</th>         <td>Height</td>      <th>  R-squared (uncentered):</th>      <td>   0.012</td>\n",
       "</tr>\n",
       "<tr>\n",
       "  <th>Model:</th>                   <td>OLS</td>       <th>  Adj. R-squared (uncentered):</th> <td>  -0.050</td>\n",
       "</tr>\n",
       "<tr>\n",
       "  <th>Method:</th>             <td>Least Squares</td>  <th>  F-statistic:       </th>          <td>  0.1953</td>\n",
       "</tr>\n",
       "<tr>\n",
       "  <th>Date:</th>             <td>Mon, 10 Feb 2025</td> <th>  Prob (F-statistic):</th>           <td> 0.664</td> \n",
       "</tr>\n",
       "<tr>\n",
       "  <th>Time:</th>                 <td>19:14:26</td>     <th>  Log-Likelihood:    </th>          <td> -110.03</td>\n",
       "</tr>\n",
       "<tr>\n",
       "  <th>No. Observations:</th>      <td>    17</td>      <th>  AIC:               </th>          <td>   222.1</td>\n",
       "</tr>\n",
       "<tr>\n",
       "  <th>Df Residuals:</th>          <td>    16</td>      <th>  BIC:               </th>          <td>   222.9</td>\n",
       "</tr>\n",
       "<tr>\n",
       "  <th>Df Model:</th>              <td>     1</td>      <th>                     </th>              <td> </td>   \n",
       "</tr>\n",
       "<tr>\n",
       "  <th>Covariance Type:</th>      <td>nonrobust</td>    <th>                     </th>              <td> </td>   \n",
       "</tr>\n",
       "</table>\n",
       "<table class=\"simpletable\">\n",
       "<tr>\n",
       "   <td></td>     <th>coef</th>     <th>std err</th>      <th>t</th>      <th>P>|t|</th>  <th>[0.025</th>    <th>0.975]</th>  \n",
       "</tr>\n",
       "<tr>\n",
       "  <th>x1</th> <td>   17.2982</td> <td>   39.138</td> <td>    0.442</td> <td> 0.664</td> <td>  -65.671</td> <td>  100.267</td>\n",
       "</tr>\n",
       "</table>\n",
       "<table class=\"simpletable\">\n",
       "<tr>\n",
       "  <th>Omnibus:</th>       <td> 0.135</td> <th>  Durbin-Watson:     </th> <td>   0.002</td>\n",
       "</tr>\n",
       "<tr>\n",
       "  <th>Prob(Omnibus):</th> <td> 0.935</td> <th>  Jarque-Bera (JB):  </th> <td>   0.203</td>\n",
       "</tr>\n",
       "<tr>\n",
       "  <th>Skew:</th>          <td>-0.166</td> <th>  Prob(JB):          </th> <td>   0.904</td>\n",
       "</tr>\n",
       "<tr>\n",
       "  <th>Kurtosis:</th>      <td> 2.581</td> <th>  Cond. No.          </th> <td>    1.00</td>\n",
       "</tr>\n",
       "</table><br/><br/>Notes:<br/>[1] R² is computed without centering (uncentered) since the model does not contain a constant.<br/>[2] Standard Errors assume that the covariance matrix of the errors is correctly specified."
      ],
      "text/latex": [
       "\\begin{center}\n",
       "\\begin{tabular}{lclc}\n",
       "\\toprule\n",
       "\\textbf{Dep. Variable:}    &      Height      & \\textbf{  R-squared (uncentered):}      &     0.012   \\\\\n",
       "\\textbf{Model:}            &       OLS        & \\textbf{  Adj. R-squared (uncentered):} &    -0.050   \\\\\n",
       "\\textbf{Method:}           &  Least Squares   & \\textbf{  F-statistic:       }          &    0.1953   \\\\\n",
       "\\textbf{Date:}             & Mon, 10 Feb 2025 & \\textbf{  Prob (F-statistic):}          &    0.664    \\\\\n",
       "\\textbf{Time:}             &     19:14:26     & \\textbf{  Log-Likelihood:    }          &   -110.03   \\\\\n",
       "\\textbf{No. Observations:} &          17      & \\textbf{  AIC:               }          &     222.1   \\\\\n",
       "\\textbf{Df Residuals:}     &          16      & \\textbf{  BIC:               }          &     222.9   \\\\\n",
       "\\textbf{Df Model:}         &           1      & \\textbf{                     }          &             \\\\\n",
       "\\textbf{Covariance Type:}  &    nonrobust     & \\textbf{                     }          &             \\\\\n",
       "\\bottomrule\n",
       "\\end{tabular}\n",
       "\\begin{tabular}{lcccccc}\n",
       "            & \\textbf{coef} & \\textbf{std err} & \\textbf{t} & \\textbf{P$> |$t$|$} & \\textbf{[0.025} & \\textbf{0.975]}  \\\\\n",
       "\\midrule\n",
       "\\textbf{x1} &      17.2982  &       39.138     &     0.442  &         0.664        &      -65.671    &      100.267     \\\\\n",
       "\\bottomrule\n",
       "\\end{tabular}\n",
       "\\begin{tabular}{lclc}\n",
       "\\textbf{Omnibus:}       &  0.135 & \\textbf{  Durbin-Watson:     } &    0.002  \\\\\n",
       "\\textbf{Prob(Omnibus):} &  0.935 & \\textbf{  Jarque-Bera (JB):  } &    0.203  \\\\\n",
       "\\textbf{Skew:}          & -0.166 & \\textbf{  Prob(JB):          } &    0.904  \\\\\n",
       "\\textbf{Kurtosis:}      &  2.581 & \\textbf{  Cond. No.          } &     1.00  \\\\\n",
       "\\bottomrule\n",
       "\\end{tabular}\n",
       "%\\caption{OLS Regression Results}\n",
       "\\end{center}\n",
       "\n",
       "Notes: \\newline\n",
       " [1] R² is computed without centering (uncentered) since the model does not contain a constant. \\newline\n",
       " [2] Standard Errors assume that the covariance matrix of the errors is correctly specified."
      ],
      "text/plain": [
       "<class 'statsmodels.iolib.summary.Summary'>\n",
       "\"\"\"\n",
       "                                 OLS Regression Results                                \n",
       "=======================================================================================\n",
       "Dep. Variable:                 Height   R-squared (uncentered):                   0.012\n",
       "Model:                            OLS   Adj. R-squared (uncentered):             -0.050\n",
       "Method:                 Least Squares   F-statistic:                             0.1953\n",
       "Date:                Mon, 10 Feb 2025   Prob (F-statistic):                       0.664\n",
       "Time:                        19:14:26   Log-Likelihood:                         -110.03\n",
       "No. Observations:                  17   AIC:                                      222.1\n",
       "Df Residuals:                      16   BIC:                                      222.9\n",
       "Df Model:                           1                                                  \n",
       "Covariance Type:            nonrobust                                                  \n",
       "==============================================================================\n",
       "                 coef    std err          t      P>|t|      [0.025      0.975]\n",
       "------------------------------------------------------------------------------\n",
       "x1            17.2982     39.138      0.442      0.664     -65.671     100.267\n",
       "==============================================================================\n",
       "Omnibus:                        0.135   Durbin-Watson:                   0.002\n",
       "Prob(Omnibus):                  0.935   Jarque-Bera (JB):                0.203\n",
       "Skew:                          -0.166   Prob(JB):                        0.904\n",
       "Kurtosis:                       2.581   Cond. No.                         1.00\n",
       "==============================================================================\n",
       "\n",
       "Notes:\n",
       "[1] R² is computed without centering (uncentered) since the model does not contain a constant.\n",
       "[2] Standard Errors assume that the covariance matrix of the errors is correctly specified.\n",
       "\"\"\""
      ]
     },
     "execution_count": 19,
     "metadata": {},
     "output_type": "execute_result"
    }
   ],
   "source": [
    "model.summary()\n",
    "\n",
    "# the co-efficient is also very close to what we did with skLearn"
   ]
  }
 ],
 "metadata": {
  "kernelspec": {
   "display_name": "Python 3",
   "language": "python",
   "name": "python3"
  },
  "language_info": {
   "codemirror_mode": {
    "name": "ipython",
    "version": 3
   },
   "file_extension": ".py",
   "mimetype": "text/x-python",
   "name": "python",
   "nbconvert_exporter": "python",
   "pygments_lexer": "ipython3",
   "version": "3.11.2"
  }
 },
 "nbformat": 4,
 "nbformat_minor": 2
}
